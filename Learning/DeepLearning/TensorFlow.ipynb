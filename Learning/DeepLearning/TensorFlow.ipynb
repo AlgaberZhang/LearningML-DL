{
 "cells": [
  {
   "cell_type": "code",
   "execution_count": null,
   "metadata": {},
   "outputs": [],
   "source": [
    "import tensorflow as tf \n",
    "\n",
    "g1 = tf.Graph()\n",
    "with g1.as_default():\n",
    "    v = tf.get_variable('v', shape=[1], initializer=tf.constant_initializer(1.0))\n",
    "\n",
    "g2 = tf.Graph()\n",
    "with g2.as_default():\n",
    "    v = tf.get_variable('v', shape=[1], initializer=tf.constant_initializer(0))\n",
    "\n",
    "with tf.Session(graph=g1) as sess:\n",
    "    tf.global_variable_initializer().run()\n",
    "    with tf.variable_scope(\"\", reuse=True):\n",
    "        print(sess.run(tf.get_variable('v')))\n",
    "\n",
    "with tf.Session(graph=g2) as sess:\n",
    "    tf.global_variable_initializer().run()\n",
    "    with tf.variable_scope(\"\", reuse=True):\n",
    "        print(sess.sun(tf.get_variable('v')))\n",
    "\n",
    "w1 = tf.Variable(tf.random_normal([2, 3], stddev=1, seed=1))\n",
    "w2 = tf.Variable(tf.random_normal([3, 1], stddev=1, seed=1))\n",
    "x = tf.constant([[0.7, 0.9]]) # 1x2\n",
    "a = tf.matmul(x, w1) # 1x3\n",
    "y = tf.matmul(a, w2) # 1x1\n",
    "\n",
    "sess = tf.Session()\n",
    "sess.run(w1.initializer)\n",
    "sess.run(w2.initializer)\n",
    "sess.close()\n",
    "\n",
    "# 定义损失函数\n",
    "cross_entropy = -tf.reduce_mean( y_ * tf.log(tf.clip_by_value(y, 1e-10, 1.0))) # tf.clip_by_value(v, min, max) 截断操作\n",
    "# 定义学习率\n",
    "learning_rate = 0.01\n",
    "# 定义反向传播算法\n",
    "train_step = tf.train.AdamOptimizer(learning_rate).minimize(cross_entropy)\n",
    "\n",
    "import tensorflow as tf \n",
    "from numpy.random import RandomState\n",
    "\n",
    "batch_size = 8\n",
    "\n",
    "w1 = tf.Variable(tf.random_normal([2, 3], stddev=1, seed=1))\n",
    "w2 = tf.Variable(tf.random_normal([3, 1], stddev=1, seed=1))\n"
   ]
  },
  {
   "cell_type": "code",
   "execution_count": 38,
   "metadata": {},
   "outputs": [
    {
     "name": "stderr",
     "output_type": "stream",
     "text": [
      "'plt' 不是内部或外部命令，也不是可运行的程序\n",
      "或批处理文件。\n"
     ]
    },
    {
     "data": {
      "image/png": "[encoded data removed]",
      "text/plain": [
       "<matplotlib.figure.Figure at 0x1aef3e0e320>"
      ]
     },
     "metadata": {},
     "output_type": "display_data"
    }
   ],
   "source": [
    "import tensorflow as tf \n",
    "import numpy as np\n",
    "import matplotlib.pyplot as plt\n",
    "!plt inline\n",
    "\n",
    "def add_layer(inputs, input_size, output_size, activation_function=None):\n",
    "    Weights = tf.Variable(tf.random_normal([input_size, output_size])) # Variable里面不需要定义数据类型\n",
    "    bias = tf.Variable(tf.zeros([1, output_size]) + 0.10) # bias维度为[1,outputsize] wx col为output_size, 可广播\n",
    "    wx_plus_bias = tf.add(tf.matmul(inputs, Weights), bias)\n",
    "    if activation_function == None:\n",
    "        return wx_plus_bias\n",
    "    else:\n",
    "        ret = activation_function(wx_plus_bias)\n",
    "        return ret \n",
    "    \n",
    "X = np.linspace(-1,1, 300)[:, np.newaxis].astype(np.float32)\n",
    "noise = np.random.normal(0, 0.05, X.shape).astype(np.float32)\n",
    "y = np.square(X) + noise\n",
    "\n",
    "xs = tf.placeholder(tf.float32, [None, 1])\n",
    "ys = tf.placeholder(tf.float32, [None, 1])\n",
    "\n",
    "l1 = add_layer(xs, 1, 10, tf.nn.relu)\n",
    "l2 = add_layer(l1, 10, 1)\n",
    "\n",
    "loss = tf.reduce_mean(tf.reduce_sum(tf.square(l2 - y), reduction_indices=[1]))\n",
    "train = tf.train.GradientDescentOptimizer(0.1).minimize(loss)\n",
    "\n",
    "init = tf.global_variables_initializer()\n",
    "\n",
    "with tf.Session() as sess:\n",
    "    sess.run(init, feed_dict={xs: X, ys: y}) # 运行初始化\n",
    "    fig = plt.figure() # 创建画布\n",
    "    ax = fig.add_subplot(1,1,1) # 取得画布指针\n",
    "    ax.scatter(X, y) # 画散点图\n",
    "    plt.ion() \n",
    "    for i in range(3000):\n",
    "        sess.run(train, feed_dict={xs: X, ys: y}) # 运行train\n",
    "        if i % 100 == 0:\n",
    "#             print(sess.run(loss, feed_dict={xs: X, ys: y}))\n",
    "            try:\n",
    "                ax.lines.remove(lines[0]) # 画动态图，去除掉lines的第一个，即前面的图\n",
    "            except Exception:\n",
    "                pass\n",
    "            prediction_value = sess.run(l2, feed_dict={xs:X, ys: y})\n",
    "            lines = ax.plot(X, prediction_value, 'r-', lw=10)\n",
    "            plt.pause(0.1) # 画图暂停0.1s\n",
    "    plt.ioff()\n",
    "    plt.show() # 只有show的画，程序会暂停，需要加interactive ON， plt.ion()"
   ]
  },
  {
   "cell_type": "markdown",
   "metadata": {},
   "source": [
    "# 加速神经网络训练\n",
    "\n",
    "- Stochastic Gradient Descent(SGD)：分批次导入，给NN训练,  \n",
    "- Momentum更新方法：在原有的w更新基础上加一个常数(惯性），w:=b * m - LearningRate * dx;下坡惯性\n",
    "- AdaGrad:对学习率进行改进，对差的学习率加惩罚；不好走的路加小鞋子让他更不好走\n",
    "- RMSProp: Momentum和AdaGrad的结合版本1.0\n",
    "- Adam: AdaGrad和Momentum的结合版本2.0\n",
    "\n",
    "## Adam \n",
    "### (最佳，一个下坡，一双破鞋)\n",
    "$ m = b_1 * m + (1 - b_1) * dx $  --> Momentum # 基于上一步的m  \n",
    "\n",
    "$ v = b_2 * v + (1 - b_2) * dx^2 $ --> AdaGrad  \n",
    "\n",
    "$ W += -LearningRate * \\frac{m}{\\sqrt{v}} $  \n"
   ]
  },
  {
   "cell_type": "markdown",
   "metadata": {},
   "source": [
    "# Optimizer\n",
    "\n"
   ]
  }
 ],
 "metadata": {
  "kernelspec": {
   "display_name": "Python 3",
   "language": "python",
   "name": "python3"
  },
  "language_info": {
   "codemirror_mode": {
    "name": "ipython",
    "version": 3
   },
   "file_extension": ".py",
   "mimetype": "text/x-python",
   "name": "python",
   "nbconvert_exporter": "python",
   "pygments_lexer": "ipython3",
   "version": "3.5.5"
  }
 },
 "nbformat": 4,
 "nbformat_minor": 2
}
