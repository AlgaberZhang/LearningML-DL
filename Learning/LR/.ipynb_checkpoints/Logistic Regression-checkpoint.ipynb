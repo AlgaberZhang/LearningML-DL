{
 "cells": [
  {
   "cell_type": "code",
   "execution_count": 1,
   "metadata": {},
   "outputs": [],
   "source": [
    "import numpy as np\n",
    "import matplotlib.pyplot as plt\n",
    "import time\n",
    "import re"
   ]
  },
  {
   "cell_type": "code",
   "execution_count": 2,
   "metadata": {},
   "outputs": [],
   "source": [
    "# calculate sigmoid function\n",
    "def sigmoid(X):\n",
    "    return 1.0 / (1 + np.exp(-X))\n",
    "\n",
    "'''\n",
    "X_Train: matrix data, each row stands for one sample\n",
    "Y_Train: matrix data, each row is the corresponding label\n",
    "options: step and maximum number of iterations\n",
    "'''\n",
    "def trainLogRegres(X_train, Y_train, options):\n",
    "    start_time = time.time()\n",
    "    count = 0\n",
    "    \n",
    "    numSamples, numFeatures = X_train.shape\n",
    "    alpha = options['alpha']\n",
    "    maxIter = options['maxIter']\n",
    "    weights = np.ones((numFeatures, 1))\n",
    "    \n",
    "    output = sigmoid(X_train.dot(weights))\n",
    "    error = output - Y_train \n",
    "    Loss = lossFunc(output, Y_train) + sum(np.square(weights))\n",
    "    while Loss >= 1e-5 and count <= 500000:\n",
    "        weights = weights - alpha*(X_train.transpose().dot(error))\n",
    "        output = sigmoid(X_train.dot(weights))\n",
    "        error = output - Y_train\n",
    "        Loss = lossFunc(output, Y_train) + sum(np.square(weights))\n",
    "        count += 1      \n",
    "    end_time = time.time()\n",
    "    print(\"Train Time>>>\", (end_time - start_time))\n",
    "    return weights\n",
    "\n",
    "def lossFunc(Y_hat, Y):\n",
    "    numSamples, numFeatures = Y.shape\n",
    "    one = np.ones((numSamples, numFeatures))\n",
    "    loss = Y.transpose().dot(np.log(Y_hat)) + (one - Y).transpose().dot(np.log(one-Y_hat))\n",
    "    return -1.0 / (numSamples) / loss\n",
    "\n",
    "def testLogRegres(weights, X_test, Y_test):\n",
    "    numSamples, numFeatures = X_test.shape\n",
    "    matchCount = 0\n",
    "    for i in range(numSamples):\n",
    "        predict = 1 if sigmoid(X_test[i, :].dot(weights)) > 0.5 else 0\n",
    "        if predict == Y_test[i]:\n",
    "            matchCount += 1\n",
    "    return float(matchCount / numSamples)\n",
    "\n",
    "def showLogRegres(weights, X_train, Y_train):\n",
    "    numSamples, numFeatures = X_train.shape\n",
    "    \n",
    "    # drwa all samples\n",
    "    for i in range(numSamples):\n",
    "        if int(Y_train[i,0] == 0):\n",
    "            plt.plot(X_train[i, 1], X_train[i, 2], 'or')\n",
    "        else:\n",
    "            plt.plot(X_train[i, 1], X_train[i, 2], 'ob')\n",
    "            \n",
    "    # draw the classify line\n",
    "    min_x1 = min(X_train[:, 1])[0,0]\n",
    "    max_x1 = max(X_train[:, 1])[0,0]\n",
    "    min_x2 = -(weights[0] + weights[1]*min_x1) / weights[2]\n",
    "    max_x2 = -(weights[0] + weights[1]*max_x1) / weights[2]\n",
    "    plt.plot([min_x1, min_x2], [max_x1, max_x2], '-g')\n",
    "    plt.show()\n",
    "\n",
    "def loadData():\n",
    "    Total_X = []\n",
    "    Total_Y = []\n",
    "    X_train = []\n",
    "    Y_train = []\n",
    "    X_test = []\n",
    "    Y_test = []\n",
    "    fileIn = open('./Data.txt')\n",
    "    regex = re.compile('\\s+')\n",
    "    for line in fileIn:\n",
    "        temp = line.strip()\n",
    "        lineArr = regex.split(temp)\n",
    "        Total_X.append([1.0, float(lineArr[0]), float(lineArr[1])])\n",
    "        Total_Y.append(int(lineArr[2]))\n",
    "    X_train = Total_X[:-5]\n",
    "    X_test = Total_X[-5:]\n",
    "    Y_train = Total_Y[:-5]\n",
    "    Y_test = Total_Y[-5:]\n",
    "    return np.matrix(X_train), np.matrix(Y_train).transpose(), np.matrix(X_test), np.matrix(Y_test).transpose()\n",
    "\n",
    "     "
   ]
  },
  {
   "cell_type": "markdown",
   "metadata": {},
   "source": [
    "### step1: load data"
   ]
  },
  {
   "cell_type": "code",
   "execution_count": 3,
   "metadata": {},
   "outputs": [],
   "source": [
    "X_train, Y_train, X_test, Y_test = loadData()"
   ]
  },
  {
   "cell_type": "markdown",
   "metadata": {},
   "source": [
    "### step2: training"
   ]
  },
  {
   "cell_type": "code",
   "execution_count": 4,
   "metadata": {},
   "outputs": [
    {
     "name": "stdout",
     "output_type": "stream",
     "text": [
      "Train Time>>> 39.85417175292969\n"
     ]
    }
   ],
   "source": [
    "options = {'alpha': 0.01, \"maxIter\": 20, 'optimzeType': 'GradDescent'}\n",
    "optWeights = trainLogRegres(X_train, Y_train, options)"
   ]
  },
  {
   "cell_type": "markdown",
   "metadata": {},
   "source": [
    "### step3: testing"
   ]
  },
  {
   "cell_type": "code",
   "execution_count": 5,
   "metadata": {},
   "outputs": [
    {
     "data": {
      "text/plain": [
       "1.0"
      ]
     },
     "execution_count": 5,
     "metadata": {},
     "output_type": "execute_result"
    }
   ],
   "source": [
    "accuracy = testLogRegres(optWeights, X_test, Y_test)\n",
    "accuracy"
   ]
  },
  {
   "cell_type": "markdown",
   "metadata": {},
   "source": [
    "### step 4:show the result"
   ]
  },
  {
   "cell_type": "code",
   "execution_count": 6,
   "metadata": {},
   "outputs": [
    {
     "name": "stdout",
     "output_type": "stream",
     "text": [
      "[[14.41489485]\n",
      " [ 1.26002377]\n",
      " [-1.95186895]]\n"
     ]
    },
    {
     "data": {
      "image/png": "[encoded data removed]",
      "text/plain": [
       "<matplotlib.figure.Figure at 0x262f28fd550>"
      ]
     },
     "metadata": {},
     "output_type": "display_data"
    }
   ],
   "source": [
    "print(optWeights)\n",
    "showLogRegres(optWeights, X_train, Y_train)"
   ]
  },
  {
   "cell_type": "code",
   "execution_count": null,
   "metadata": {},
   "outputs": [],
   "source": []
  }
 ],
 "metadata": {
  "kernelspec": {
   "display_name": "Python 3",
   "language": "python",
   "name": "python3"
  },
  "language_info": {
   "codemirror_mode": {
    "name": "ipython",
    "version": 3
   },
   "file_extension": ".py",
   "mimetype": "text/x-python",
   "name": "python",
   "nbconvert_exporter": "python",
   "pygments_lexer": "ipython3",
   "version": "3.5.5"
  }
 },
 "nbformat": 4,
 "nbformat_minor": 2
}
