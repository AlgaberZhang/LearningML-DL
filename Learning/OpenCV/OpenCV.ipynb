{
 "cells": [
  {
   "cell_type": "code",
   "execution_count": 1,
   "metadata": {},
   "outputs": [],
   "source": [
    "import numpy as np\n",
    "import pandas as pd\n",
    "import cv2\n",
    "import matplotlib.pyplot as plt\n",
    "%matplotlib inline "
   ]
  },
  {
   "cell_type": "code",
   "execution_count": 3,
   "metadata": {},
   "outputs": [
    {
     "data": {
      "text/plain": [
       "-1"
      ]
     },
     "execution_count": 3,
     "metadata": {},
     "output_type": "execute_result"
    }
   ],
   "source": [
    "img = np.mat(np.zeros((300,300)), dtype=np.uint8)\n",
    "cv2.imshow('A', img)\n",
    "cv2.waitKey(0)"
   ]
  },
  {
   "cell_type": "markdown",
   "metadata": {},
   "source": [
    "## BGR三通道"
   ]
  },
  {
   "cell_type": "code",
   "execution_count": 4,
   "metadata": {},
   "outputs": [
    {
     "data": {
      "text/plain": [
       "(300, 300, 3)"
      ]
     },
     "execution_count": 4,
     "metadata": {},
     "output_type": "execute_result"
    }
   ],
   "source": [
    "img = cv2.cvtColor(img, cv2.COLOR_GRAY2BGR)\n",
    "img.shape"
   ]
  },
  {
   "cell_type": "markdown",
   "metadata": {},
   "source": [
    "## 读取图像，解决imread不能读取中文路径的问题"
   ]
  },
  {
   "cell_type": "code",
   "execution_count": 23,
   "metadata": {},
   "outputs": [],
   "source": [
    "# flag:int; {>0:3-channel color, =0: grayscale color, <0: the loaded image it is}\n",
    "def cv_imread(file_path):\n",
    "    cv_img = cv2.imdecode(np.fromfile(file_path, dtype=np.uint8), -1)\n",
    "    return cv_img"
   ]
  },
  {
   "cell_type": "code",
   "execution_count": 24,
   "metadata": {},
   "outputs": [
    {
     "data": {
      "text/plain": [
       "-1"
      ]
     },
     "execution_count": 24,
     "metadata": {},
     "output_type": "execute_result"
    }
   ],
   "source": [
    "image = cv_imread('../../../xlpic.jpg')\n",
    "cv2.imshow('zzw', image)\n",
    "cv2.waitKey(0)"
   ]
  },
  {
   "cell_type": "code",
   "execution_count": 31,
   "metadata": {},
   "outputs": [
    {
     "data": {
      "text/plain": [
       "array([176, 176, 176, 175, 175, 175, 175, 175, 175, 175, 176, 177, 177,\n",
       "       176, 176, 177, 177, 177, 177, 177, 177, 177, 177, 177, 177, 177,\n",
       "       177, 177, 177, 177, 177, 177, 176, 177, 177, 176, 176, 176, 177,\n",
       "       177, 176, 176, 177, 177, 176, 176, 176, 176, 176, 176, 176, 177,\n",
       "       177, 177, 177, 176, 177, 176, 175, 176, 177, 177, 176, 175, 176,\n",
       "       176, 176, 177, 177, 176, 175, 175, 176, 176, 176, 176, 176, 175,\n",
       "       175, 175, 175, 175, 175, 175, 175, 175, 175, 175, 176, 176, 175,\n",
       "       175, 176, 176, 176, 176, 174, 175, 175, 175, 175, 175, 175, 175,\n",
       "       175, 175, 175, 174, 174, 175, 175, 173, 174, 174, 174, 174, 174,\n",
       "       174, 174, 173, 173, 173, 173, 173, 173, 173], dtype=uint8)"
      ]
     },
     "execution_count": 31,
     "metadata": {},
     "output_type": "execute_result"
    }
   ],
   "source": [
    "image[0]"
   ]
  },
  {
   "cell_type": "code",
   "execution_count": 43,
   "metadata": {},
   "outputs": [
    {
     "data": {
      "text/plain": [
       "-1"
      ]
     },
     "execution_count": 43,
     "metadata": {},
     "output_type": "execute_result"
    }
   ],
   "source": [
    "i = np.zeros((300,300))\n",
    "for j in range(300):\n",
    "    i[j,j]=255\n",
    "cv2.imshow('o', i)\n",
    "cv2.waitKey(0)"
   ]
  },
  {
   "cell_type": "code",
   "execution_count": null,
   "metadata": {},
   "outputs": [],
   "source": []
  },
  {
   "cell_type": "code",
   "execution_count": null,
   "metadata": {},
   "outputs": [],
   "source": []
  }
 ],
 "metadata": {
  "kernelspec": {
   "display_name": "Python 3",
   "language": "python",
   "name": "python3"
  },
  "language_info": {
   "codemirror_mode": {
    "name": "ipython",
    "version": 3
   },
   "file_extension": ".py",
   "mimetype": "text/x-python",
   "name": "python",
   "nbconvert_exporter": "python",
   "pygments_lexer": "ipython3",
   "version": "3.5.5"
  }
 },
 "nbformat": 4,
 "nbformat_minor": 2
}
