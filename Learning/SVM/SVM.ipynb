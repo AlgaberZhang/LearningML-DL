{
 "cells": [
  {
   "cell_type": "markdown",
   "metadata": {},
   "source": [
    "## 平面的法向量\n",
    "- 其实一个平面有无数法向量,这些法向量都平行.\n",
    "- 任意一个平面：ax+by+cz+d=0,取一组数x0,y0,z0满足该方程,则：ax0+by0+cz0+d=0,两式相减得：a(x-x0)+b(y-y0)+c(z-z0)=0,这就是平面的点法式方程\n",
    "- 表示过点(x0,y0,z0),以n=(a,b,c)为法线的平面.ax+by+cz+d=0就是平面的一般方程\n",
    "\n",
    "## 两直线的距离\n",
    "$w_1*x_1 + w_2*x_2 + b = 0$ \n",
    "\n",
    "$w_1*x_1 + w_2*x_2 + b = 1$ \n",
    "\n",
    "$d=\\frac{|C_2 - C_1|}{\\sqrt{W_1^2 + W_2^2}} = \\frac{1}{||W||}$"
   ]
  },
  {
   "cell_type": "markdown",
   "metadata": {},
   "source": []
  }
 ],
 "metadata": {
  "kernelspec": {
   "display_name": "Python 3",
   "language": "python",
   "name": "python3"
  },
  "language_info": {
   "codemirror_mode": {
    "name": "ipython",
    "version": 3
   },
   "file_extension": ".py",
   "mimetype": "text/x-python",
   "name": "python",
   "nbconvert_exporter": "python",
   "pygments_lexer": "ipython3",
   "version": "3.5.5"
  }
 },
 "nbformat": 4,
 "nbformat_minor": 2
}
